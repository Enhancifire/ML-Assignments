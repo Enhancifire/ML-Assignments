{
 "cells": [
  {
   "cell_type": "code",
   "execution_count": 7,
   "id": "326d6979",
   "metadata": {},
   "outputs": [],
   "source": [
    "import pandas as pd\n",
    "import numpy as np"
   ]
  },
  {
   "cell_type": "code",
   "execution_count": 10,
   "id": "96776c70",
   "metadata": {},
   "outputs": [
    {
     "ename": "FileNotFoundError",
     "evalue": "[Errno 2] No such file or directory: '/content/bmi.csv'",
     "output_type": "error",
     "traceback": [
      "\u001b[0;31m---------------------------------------------------------------------------\u001b[0m",
      "\u001b[0;31mFileNotFoundError\u001b[0m                         Traceback (most recent call last)",
      "Cell \u001b[0;32mIn[10], line 9\u001b[0m\n\u001b[1;32m      7\u001b[0m     \u001b[39mimport\u001b[39;00m \u001b[39mrequests\u001b[39;00m\n\u001b[1;32m      8\u001b[0m     res \u001b[39m=\u001b[39m requests\u001b[39m.\u001b[39mget(data_url, allow_redirects \u001b[39m=\u001b[39m \u001b[39mTrue\u001b[39;00m)\n\u001b[0;32m----> 9\u001b[0m     \u001b[39mwith\u001b[39;00m \u001b[39mopen\u001b[39;49m(\u001b[39m\"\u001b[39;49m\u001b[39m/content/bmi.csv\u001b[39;49m\u001b[39m\"\u001b[39;49m,\u001b[39m'\u001b[39;49m\u001b[39mwb\u001b[39;49m\u001b[39m'\u001b[39;49m) \u001b[39mas\u001b[39;00m file:\n\u001b[1;32m     10\u001b[0m         file\u001b[39m.\u001b[39mwrite(res\u001b[39m.\u001b[39mcontent)\n\u001b[1;32m     12\u001b[0m \u001b[39m# Delete above code if done downloading\u001b[39;00m\n",
      "File \u001b[0;32m~/Drives/Data/Projects/Study/Machine Learning/Assignments/.env/lib/python3.11/site-packages/IPython/core/interactiveshell.py:284\u001b[0m, in \u001b[0;36m_modified_open\u001b[0;34m(file, *args, **kwargs)\u001b[0m\n\u001b[1;32m    277\u001b[0m \u001b[39mif\u001b[39;00m file \u001b[39min\u001b[39;00m {\u001b[39m0\u001b[39m, \u001b[39m1\u001b[39m, \u001b[39m2\u001b[39m}:\n\u001b[1;32m    278\u001b[0m     \u001b[39mraise\u001b[39;00m \u001b[39mValueError\u001b[39;00m(\n\u001b[1;32m    279\u001b[0m         \u001b[39mf\u001b[39m\u001b[39m\"\u001b[39m\u001b[39mIPython won\u001b[39m\u001b[39m'\u001b[39m\u001b[39mt let you open fd=\u001b[39m\u001b[39m{\u001b[39;00mfile\u001b[39m}\u001b[39;00m\u001b[39m by default \u001b[39m\u001b[39m\"\u001b[39m\n\u001b[1;32m    280\u001b[0m         \u001b[39m\"\u001b[39m\u001b[39mas it is likely to crash IPython. If you know what you are doing, \u001b[39m\u001b[39m\"\u001b[39m\n\u001b[1;32m    281\u001b[0m         \u001b[39m\"\u001b[39m\u001b[39myou can use builtins\u001b[39m\u001b[39m'\u001b[39m\u001b[39m open.\u001b[39m\u001b[39m\"\u001b[39m\n\u001b[1;32m    282\u001b[0m     )\n\u001b[0;32m--> 284\u001b[0m \u001b[39mreturn\u001b[39;00m io_open(file, \u001b[39m*\u001b[39;49margs, \u001b[39m*\u001b[39;49m\u001b[39m*\u001b[39;49mkwargs)\n",
      "\u001b[0;31mFileNotFoundError\u001b[0m: [Errno 2] No such file or directory: '/content/bmi.csv'"
     ]
    }
   ],
   "source": [
    "download = True\n",
    "\n",
    "# Colab\n",
    "if download:\n",
    "\n",
    "    data_url = \"https://raw.githubusercontent.com/Enhancifire/ML-Assignments/main/bmi.csv\"\n",
    "    import requests\n",
    "    res = requests.get(data_url, allow_redirects = True)\n",
    "    with open(\"/content/bmi.csv\",'wb') as file:\n",
    "        file.write(res.content)\n",
    "\n",
    "# Delete above code if done downloading\n",
    "data=pd.read_csv(\"/content/bmi.csv\")"
   ]
  },
  {
   "cell_type": "code",
   "execution_count": null,
   "id": "5ac6eee3",
   "metadata": {},
   "outputs": [],
   "source": [
    "data.head()"
   ]
  },
  {
   "cell_type": "code",
   "execution_count": null,
   "id": "566a7b9f",
   "metadata": {},
   "outputs": [],
   "source": [
    "data.tail()"
   ]
  },
  {
   "cell_type": "code",
   "execution_count": null,
   "id": "29466d68",
   "metadata": {},
   "outputs": [],
   "source": [
    "data.shape"
   ]
  },
  {
   "cell_type": "code",
   "execution_count": null,
   "id": "a1fd8cc4",
   "metadata": {},
   "outputs": [],
   "source": [
    "data.info()"
   ]
  },
  {
   "cell_type": "code",
   "execution_count": null,
   "id": "20efbcdb",
   "metadata": {},
   "outputs": [],
   "source": [
    "data.isnull().sum()"
   ]
  },
  {
   "cell_type": "code",
   "execution_count": null,
   "id": "1232df77",
   "metadata": {},
   "outputs": [],
   "source": [
    "x = np.array(data['Height']).reshape(-1, 1)\n",
    "y = np.array(data['Weight']).reshape(-1, 1)"
   ]
  },
  {
   "cell_type": "code",
   "execution_count": null,
   "id": "070f7d68",
   "metadata": {
    "scrolled": true
   },
   "outputs": [],
   "source": [
    "from sklearn.model_selection import train_test_split\n",
    "train_x,test_x,train_y,test_y=train_test_split(x,y,random_state=2,test_size=0.3)"
   ]
  },
  {
   "cell_type": "code",
   "execution_count": null,
   "id": "204b0ace",
   "metadata": {},
   "outputs": [],
   "source": [
    "from sklearn.metrics import mean_absolute_error\n",
    "from sklearn.metrics import mean_squared_error\n",
    "from sklearn.metrics import r2_score\n",
    "from sklearn import linear_model"
   ]
  },
  {
   "cell_type": "code",
   "execution_count": null,
   "id": "fc50edbd",
   "metadata": {},
   "outputs": [],
   "source": [
    "regr=linear_model.LinearRegression()\n",
    "regr.fit(train_x,train_y)\n",
    "y_pred=regr.predict(test_x)"
   ]
  },
  {
   "cell_type": "code",
   "execution_count": null,
   "id": "bef04d5f",
   "metadata": {},
   "outputs": [],
   "source": [
    "print('Accuracy: '+str(regr.score(test_x,test_y)*100)+'%')"
   ]
  },
  {
   "cell_type": "code",
   "execution_count": null,
   "id": "607c6983",
   "metadata": {},
   "outputs": [],
   "source": [
    "print(\"Mean absolute error: {}\".format(mean_absolute_error(test_y,y_pred)))"
   ]
  },
  {
   "cell_type": "code",
   "execution_count": null,
   "id": "3fc53a2a",
   "metadata": {},
   "outputs": [],
   "source": [
    "print(\"Mean squared error: {}\".format(mean_squared_error(test_y,y_pred)))"
   ]
  },
  {
   "cell_type": "code",
   "execution_count": null,
   "id": "f82c8957",
   "metadata": {},
   "outputs": [],
   "source": [
    "R2=r2_score(test_y,y_pred)\n",
    "print('R squared: {}'.format(R2))"
   ]
  },
  {
   "cell_type": "code",
   "execution_count": null,
   "id": "29ab855f",
   "metadata": {},
   "outputs": [],
   "source": [
    "# Visualising the Training set results\n",
    "import matplotlib.pyplot as plt\n",
    "plt.scatter(train_x,train_y, color = 'Yellow')\n",
    "plt.plot(train_x, regr.predict(train_x), color = 'blue')\n",
    "plt.title('Height vs Weights (Training set)')\n",
    "plt.xlabel('Height')\n",
    "plt.ylabel('Weight')\n",
    "plt.show()"
   ]
  },
  {
   "cell_type": "code",
   "execution_count": null,
   "id": "c8b57c15",
   "metadata": {},
   "outputs": [],
   "source": [
    "# Visualising the Test set results\n",
    "plt.scatter(test_x,test_y, color = 'Yellow')\n",
    "plt.plot(train_x, regr.predict(train_x), color = 'blue')\n",
    "plt.title('Height vs weights (Test set)')\n",
    "plt.xlabel('Height')\n",
    "plt.ylabel('Weight')\n",
    "plt.show()"
   ]
  }
 ],
 "metadata": {
  "kernelspec": {
   "display_name": "Python 3 (ipykernel)",
   "language": "python",
   "name": "python3"
  },
  "language_info": {
   "codemirror_mode": {
    "name": "ipython",
    "version": 3
   },
   "file_extension": ".py",
   "mimetype": "text/x-python",
   "name": "python",
   "nbconvert_exporter": "python",
   "pygments_lexer": "ipython3",
   "version": "3.11.3"
  }
 },
 "nbformat": 4,
 "nbformat_minor": 5
}
